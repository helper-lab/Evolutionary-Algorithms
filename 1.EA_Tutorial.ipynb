{
 "cells": [
  {
   "cell_type": "code",
   "execution_count": 1,
   "id": "251b2abb",
   "metadata": {
    "slideshow": {
     "slide_type": "skip"
    }
   },
   "outputs": [],
   "source": [
    "import datetime\n",
    "import time\n",
    "import csv\n",
    "import os\n",
    "import random\n",
    "import numpy as np\n",
    "from matplotlib import pyplot as plt\n",
    "import pandas as pd\n",
    "import sys\n",
    "import re\n",
    "from IPython.display import Video\n",
    "sys.path.insert(0, os.getcwd())\n",
    "\n",
    "import plotter"
   ]
  },
  {
   "cell_type": "markdown",
   "id": "b4d60798",
   "metadata": {
    "slideshow": {
     "slide_type": "slide"
    }
   },
   "source": [
    "## I. Population-based Search Strategies"
   ]
  },
  {
   "cell_type": "markdown",
   "id": "8a6015fe",
   "metadata": {
    "slideshow": {
     "slide_type": "fragment"
    }
   },
   "source": [
    "- **Heuristic**. Examination of part of all the solutions, following known algorithm _(unlike Complete algorithms)._"
   ]
  },
  {
   "cell_type": "markdown",
   "id": "1def3cea",
   "metadata": {
    "slideshow": {
     "slide_type": "fragment"
    }
   },
   "source": [
    "- **Non-Deterministic**\n",
    "    - Can escape local maxima due to randomness;\n",
    "    - Due to stochasticity – different executions lead to different solutions;"
   ]
  },
  {
   "cell_type": "markdown",
   "id": "971fd9f1",
   "metadata": {
    "slideshow": {
     "slide_type": "fragment"
    }
   },
   "source": [
    "<p align=\"center\">\n",
    "  <img src=IMG\\Slide7.jpg>\n",
    "</p>"
   ]
  },
  {
   "cell_type": "markdown",
   "id": "9d1a855f",
   "metadata": {
    "slideshow": {
     "slide_type": "slide"
    }
   },
   "source": [
    "## II. Evolutionary Algorithms refresher"
   ]
  },
  {
   "cell_type": "markdown",
   "id": "00315a5d",
   "metadata": {
    "slideshow": {
     "slide_type": "fragment"
    }
   },
   "source": [
    "* EAs exploit the ideas behind the Darwinian Theory of Evolution:\n",
    "    * Genes are at the heart of all EAs – **genotype defines phenotype** (genotype = chromosomes = individual).\n",
    "    * Individuals could be bit strings, real numbers, data structure, etc."
   ]
  },
  {
   "cell_type": "markdown",
   "id": "1c63d283",
   "metadata": {
    "slideshow": {
     "slide_type": "fragment"
    }
   },
   "source": [
    "<p align=\"center\">\n",
    "  <img src=IMG/Slide8_3.jpg>\n",
    "</p>"
   ]
  },
  {
   "cell_type": "markdown",
   "id": "0faabb76",
   "metadata": {
    "slideshow": {
     "slide_type": "fragment"
    }
   },
   "source": [
    "<p align=\"center\">\n",
    "  <img src=IMG/Slide8_2.jpg>\n",
    "</p>"
   ]
  },
  {
   "cell_type": "markdown",
   "id": "79b7f14f",
   "metadata": {
    "slideshow": {
     "slide_type": "subslide"
    }
   },
   "source": [
    "## Example: OneMax Problem\n",
    "\n",
    "#### OneMax problem for 10-bit binary sequences:\n",
    "* Maximize number of “1” in individuals of form: 1010101001;\n",
    "* Fitness function: $$ℎ(𝑥)= \\sum_{𝑖=1}^{10} 𝑥_𝑖 ; $$\n",
    "* Initial probability model (uniform distribution): $$𝑝_0 (𝑥_𝑖=1)=0.5; ∀𝑖∈[1,10]; $$"
   ]
  },
  {
   "cell_type": "markdown",
   "id": "853ebdbb",
   "metadata": {
    "slideshow": {
     "slide_type": "fragment"
    }
   },
   "source": [
    "#### In other words\n",
    "\n",
    "<p align=\"center\">\n",
    "  <img src=IMG/Slide13.jpg>\n",
    "</p>"
   ]
  },
  {
   "cell_type": "markdown",
   "id": "6e5e5b15",
   "metadata": {
    "slideshow": {
     "slide_type": "subslide"
    }
   },
   "source": [
    "* All the individuals compose the population\n",
    "\n",
    "<p align=\"center\">\n",
    "  <img src=IMG/Slide14.jpg>\n",
    "</p>"
   ]
  },
  {
   "cell_type": "markdown",
   "id": "e43ce1e6",
   "metadata": {
    "slideshow": {
     "slide_type": "subslide"
    }
   },
   "source": [
    "* We evaluate _goodness_ of each individual using _fitness function_:\n",
    "$$ℎ(𝑥)= \\sum_{𝑖=1}^{10} 𝑥_𝑖 ; $$\n",
    "\n",
    "<p align=\"center\">\n",
    "  <img src=IMG/Slide15.jpg>\n",
    "</p>"
   ]
  },
  {
   "cell_type": "markdown",
   "id": "eed14d1d",
   "metadata": {
    "slideshow": {
     "slide_type": "subslide"
    }
   },
   "source": [
    "Several individuals could be selected as parents to generate the offspring:\n",
    "* The best individuals – _elitist approach;_\n",
    "* Random individuals – _lottery ticket approach;_\n",
    "\n",
    "<p align=\"center\">\n",
    "  <img src=IMG/Slide16.jpg>\n",
    "</p>"
   ]
  },
  {
   "cell_type": "markdown",
   "id": "34e7b6d0",
   "metadata": {
    "slideshow": {
     "slide_type": "subslide"
    }
   },
   "source": [
    "* Selected parents can create the offspring in cross-over operation.\n",
    "* Offspring inherits chromosomes from both parents.\n",
    "* The offspring can mutate (the chromosomes can spontaneously change).\n",
    "* Finally, the offspring, which better fits the environment, survives.\n",
    "\n",
    "<p align=\"center\">\n",
    "  <img src=IMG/Slide20.jpg>\n",
    "</p>"
   ]
  },
  {
   "cell_type": "markdown",
   "id": "25883470",
   "metadata": {
    "slideshow": {
     "slide_type": "fragment"
    }
   },
   "source": [
    "<p align=\"center\">\n",
    "  <img src=IMG/Slide21.jpg>\n",
    "</p>"
   ]
  },
  {
   "cell_type": "markdown",
   "id": "624c8ced",
   "metadata": {
    "slideshow": {
     "slide_type": "fragment"
    }
   },
   "source": [
    "<p align=\"center\">\n",
    "  <img src=IMG/Slide22.jpg>\n",
    "</p>"
   ]
  },
  {
   "cell_type": "markdown",
   "id": "5d7a3137",
   "metadata": {
    "slideshow": {
     "slide_type": "subslide"
    }
   },
   "source": [
    "## Evolutionary Algorithm Refreseher\n",
    "\n",
    "<p align=\"center\">\n",
    "  <img src=IMG/Slide23.jpg>\n",
    "</p>"
   ]
  },
  {
   "cell_type": "markdown",
   "id": "3bb7a0bf",
   "metadata": {
    "slideshow": {
     "slide_type": "slide"
    }
   },
   "source": [
    "## Evolutionary Algorithms - Coding Time!\n",
    "\n",
    "\n",
    "<img src=\"https://media.giphy.com/media/13UZisxBxkjPwI/giphy.gif\" width=\"1024\" align=\"center\">"
   ]
  },
  {
   "cell_type": "markdown",
   "id": "79183926",
   "metadata": {
    "slideshow": {
     "slide_type": "subslide"
    }
   },
   "source": [
    "### 1. Define the Individual (Chromosome)"
   ]
  },
  {
   "cell_type": "code",
   "execution_count": 2,
   "id": "d5cc8666",
   "metadata": {
    "slideshow": {
     "slide_type": "fragment"
    }
   },
   "outputs": [],
   "source": [
    "class Chromosome:\n",
    " \n",
    "    def __init__(self, genes, fitness): \n",
    "        self.Genes = genes\n",
    "        self.Fitness = fitness "
   ]
  },
  {
   "cell_type": "markdown",
   "id": "0fa642f8",
   "metadata": {
    "slideshow": {
     "slide_type": "fragment"
    }
   },
   "source": [
    "### 2. Define all the EA methods"
   ]
  },
  {
   "cell_type": "code",
   "execution_count": 5,
   "id": "20a2c638",
   "metadata": {
    "slideshow": {
     "slide_type": "fragment"
    }
   },
   "outputs": [],
   "source": [
    "class EA:\n",
    "\n",
    "    def __init__(self, parameters, get_fitness):\n",
    "        self.alg_type = 'EA'\n",
    "        self.gene_set = parameters['gene_set']\n",
    "        self.length = parameters['length']\n",
    "        self.pop_size = parameters['pop_size']\n",
    "        self.ratio = parameters['selection_ratio']\n",
    "        self.mutation = parameters['mutation']\n",
    "        self.get_fitness = get_fitness\n",
    "        self.pop = []\n",
    "        self.num_selected = int(self.pop_size * self.ratio)\n",
    "        self.start_time = None\n",
    "        self.iteration = 0\n",
    "        self.name = self.give_name()\n",
    "\n",
    "    def give_name(self):\n",
    "        name = '_'.join([self.alg_type, \\\n",
    "                      str(self.length), \\\n",
    "                      str(self.pop_size), \\\n",
    "                      str(self.ratio), \\\n",
    "                      str(self.mutation), \\\n",
    "                      str(int(time.time()))]) +\\\n",
    "                    '.csv'\n",
    "        return name\n",
    "        \n",
    "    def generate_parent(self):\n",
    "        genes = []\n",
    "        while len(genes) < self.length:\n",
    "            sample_size = min(self.length - len(genes), len(self.gene_set))\n",
    "            genes.extend(random.sample(self.gene_set, sample_size))\n",
    "        fitness = get_fitness(genes)\n",
    "        return Chromosome(genes, fitness)\n",
    "\n",
    "    def population(self):\n",
    "        for i in range(self.pop_size):\n",
    "            self.pop.append(self.generate_parent())\n",
    "\n",
    "    def selection(self):\n",
    "        self.pop.sort(key=lambda x: x.Fitness, reverse=True)\n",
    "        self.pop = self.pop[:self.num_selected]\n",
    "\n",
    "    def mutate(self, parent):\n",
    "        child_genes = parent.Genes[:]\n",
    "        index = random.randrange(0, len(parent.Genes))\n",
    "        new_gene, alternate = random.sample(self.gene_set, 2)\n",
    "        child_genes[index] = alternate \\\n",
    "            if new_gene == child_genes[index] \\\n",
    "            else new_gene\n",
    "        fitness = self.get_fitness(child_genes)\n",
    "        return Chromosome(child_genes, fitness)\n",
    "\n",
    "    def crossover(self):\n",
    "        u_distr = np.random.rand(self.length)\n",
    "        res = []\n",
    "        while len(res) < self.pop_size:\n",
    "            index_1 = random.randrange(0, self.num_selected)\n",
    "            index_2 = random.randrange(0, self.num_selected)\n",
    "            p1 = np.array(self.pop[index_1].Genes)\n",
    "            p2 = np.array(self.pop[index_2].Genes)\n",
    "            ch_1 = []\n",
    "            for j in range(len(u_distr)):\n",
    "                if u_distr[j] >= 0.5:\n",
    "                    ch_1.append(p1[j])\n",
    "                else:\n",
    "                    ch_1.append(p2[j])\n",
    "            if self.mutation >= random.random():\n",
    "                child = self.mutate(Chromosome(ch_1, ch_1.count(1)))\n",
    "            else:\n",
    "                child = Chromosome(ch_1, ch_1.count(1))\n",
    "            res.append(child)\n",
    "\n",
    "        return res\n",
    "\n",
    "    def display(self, candidate):\n",
    "        timeDiff = datetime.datetime.now() - self.start_time\n",
    "        if len(candidate.Genes) > 30:\n",
    "            print(\"{0}\\t{1}...{2}\\t{3:3.2f}\\t{4}\".format(\n",
    "                'It_' + str(self.iteration),\n",
    "                ''.join(map(str, candidate.Genes[:15])),\n",
    "                ''.join(map(str, candidate.Genes[-15:])),\n",
    "                candidate.Fitness,\n",
    "                str(timeDiff)))\n",
    "        else:\n",
    "            print(\"{0}\\t{1}\\t{2:3.2f}\\t{3}\".format(\n",
    "                'It_' + str(self.iteration),\n",
    "                ''.join(map(str, candidate.Genes)),\n",
    "                candidate.Fitness,\n",
    "                str(timeDiff)))\n",
    "\n",
    "        with open(self.name, mode='a') as file:\n",
    "            header = ['iteration', 'best_ind', 'fitness', 'time']\n",
    "            writer = csv.writer(file, delimiter=',')\n",
    "\n",
    "            if os.path.getsize(self.name) == 0:\n",
    "                writer.writerow(header)\n",
    "                writer.writerow([self.iteration, candidate.Genes, candidate.Fitness, timeDiff])\n",
    "            else:\n",
    "                writer.writerow([self.iteration, candidate.Genes, candidate.Fitness, timeDiff])\n",
    "\n",
    "    def get_best_ea(self, initial_pop):\n",
    "\n",
    "        random.seed()\n",
    "        self.start_time = datetime.datetime.now()\n",
    "        \n",
    "        if len(initial_pop) != 0:\n",
    "            self.pop = initial_pop\n",
    "        else:\n",
    "            self.population()\n",
    "\n",
    "        self.selection()\n",
    "        best_parent = self.pop[0]\n",
    "        self.display(best_parent)\n",
    "        \n",
    "        # Stopping criterion\n",
    "        if best_parent.Fitness >= self.length:\n",
    "            return best_parent\n",
    "        \n",
    "        # Searching the best individuals\n",
    "        while True:\n",
    "            self.iteration += 1\n",
    "            self.pop = self.crossover()\n",
    "            self.selection()\n",
    "            best_child = self.pop[0]\n",
    "            \n",
    "            if best_parent.Fitness >= best_child.Fitness:\n",
    "                continue\n",
    "\n",
    "            self.display(best_child)\n",
    "            \n",
    "            # Stopping criterion\n",
    "            if best_child.Fitness >= self.length:\n",
    "                return best_child\n",
    "\n",
    "            best_parent = best_child\n",
    "\n",
    "    def check_params(self):\n",
    "        temp = vars(self)\n",
    "        # print('Enlist all the input parameters')\n",
    "        for item in temp:\n",
    "            print(item, ':', temp[item])"
   ]
  },
  {
   "cell_type": "markdown",
   "id": "28ee07f1",
   "metadata": {
    "slideshow": {
     "slide_type": "fragment"
    }
   },
   "source": [
    "### 3. Evolutionary Algorithm Parameters"
   ]
  },
  {
   "cell_type": "code",
   "execution_count": 6,
   "id": "7aa4fb22",
   "metadata": {
    "slideshow": {
     "slide_type": "fragment"
    }
   },
   "outputs": [],
   "source": [
    "parameters = {'gene_set': [0, 1],\n",
    "              'length': 10,\n",
    "              'pop_size': 10,\n",
    "              'selection_ratio': 0.5,\n",
    "              'mutation': 0.01}\n",
    "\n",
    "initial_population = []\n",
    "\n",
    "def get_fitness(genes):\n",
    "    return genes.count(1)"
   ]
  },
  {
   "cell_type": "markdown",
   "id": "bb717669",
   "metadata": {
    "slideshow": {
     "slide_type": "fragment"
    }
   },
   "source": [
    "### 4. Initialize the population"
   ]
  },
  {
   "cell_type": "code",
   "execution_count": 7,
   "id": "2097dedb",
   "metadata": {
    "slideshow": {
     "slide_type": "fragment"
    }
   },
   "outputs": [
    {
     "name": "stdout",
     "output_type": "stream",
     "text": [
      "Genes: [0, 1, 0, 1, 0, 1, 1, 0, 1, 0]; Fitness: 5;\n",
      "Genes: [1, 0, 1, 0, 0, 1, 1, 0, 1, 0]; Fitness: 5;\n",
      "Genes: [0, 1, 0, 1, 0, 1, 0, 1, 1, 0]; Fitness: 5;\n",
      "Genes: [1, 0, 1, 0, 1, 0, 0, 1, 0, 1]; Fitness: 5;\n",
      "Genes: [0, 1, 0, 1, 0, 1, 0, 1, 0, 1]; Fitness: 5;\n",
      "Genes: [1, 0, 1, 0, 1, 0, 1, 0, 0, 1]; Fitness: 5;\n",
      "Genes: [1, 0, 0, 1, 1, 0, 1, 0, 1, 0]; Fitness: 5;\n",
      "Genes: [1, 0, 1, 0, 0, 1, 1, 0, 0, 1]; Fitness: 5;\n",
      "Genes: [0, 1, 1, 0, 0, 1, 1, 0, 0, 1]; Fitness: 5;\n",
      "Genes: [0, 1, 1, 0, 0, 1, 0, 1, 1, 0]; Fitness: 5;\n"
     ]
    }
   ],
   "source": [
    "ea = EA(parameters, get_fitness)\n",
    "ea.population()\n",
    "\n",
    "for individual in ea.pop:\n",
    "    print(\"Genes: {}; Fitness: {};\".format(individual.Genes, individual.Fitness))"
   ]
  },
  {
   "cell_type": "markdown",
   "id": "c3d6a00c",
   "metadata": {
    "slideshow": {
     "slide_type": "fragment"
    }
   },
   "source": [
    "### 5. Select the best individuals"
   ]
  },
  {
   "cell_type": "code",
   "execution_count": 8,
   "id": "79ccb62a",
   "metadata": {
    "scrolled": true,
    "slideshow": {
     "slide_type": "fragment"
    }
   },
   "outputs": [
    {
     "name": "stdout",
     "output_type": "stream",
     "text": [
      "Genes: [0, 1, 0, 1, 0, 1, 1, 0, 1, 0]; Fitness: 5;\n",
      "Genes: [1, 0, 1, 0, 0, 1, 1, 0, 1, 0]; Fitness: 5;\n",
      "Genes: [0, 1, 0, 1, 0, 1, 0, 1, 1, 0]; Fitness: 5;\n",
      "Genes: [1, 0, 1, 0, 1, 0, 0, 1, 0, 1]; Fitness: 5;\n",
      "Genes: [0, 1, 0, 1, 0, 1, 0, 1, 0, 1]; Fitness: 5;\n"
     ]
    }
   ],
   "source": [
    "ea.selection()\n",
    "\n",
    "for individual in ea.pop:\n",
    "    print(\"Genes: {}; Fitness: {};\".format(individual.Genes, individual.Fitness))"
   ]
  },
  {
   "cell_type": "markdown",
   "id": "4cc279e6",
   "metadata": {
    "slideshow": {
     "slide_type": "fragment"
    }
   },
   "source": [
    "### 6. Perform crossover and mutation operation"
   ]
  },
  {
   "cell_type": "code",
   "execution_count": 9,
   "id": "148a59f7",
   "metadata": {
    "slideshow": {
     "slide_type": "fragment"
    }
   },
   "outputs": [
    {
     "name": "stdout",
     "output_type": "stream",
     "text": [
      "Genes: [1, 0, 1, 0, 0, 0, 1, 0, 1, 0]; Fitness: 4;\n",
      "Genes: [0, 1, 0, 1, 0, 1, 1, 0, 1, 0]; Fitness: 5;\n",
      "Genes: [1, 0, 1, 0, 1, 0, 0, 1, 0, 1]; Fitness: 5;\n",
      "Genes: [0, 1, 0, 1, 0, 1, 1, 0, 1, 0]; Fitness: 5;\n",
      "Genes: [1, 0, 1, 0, 0, 0, 1, 0, 1, 0]; Fitness: 4;\n",
      "Genes: [1, 0, 1, 0, 0, 1, 0, 1, 1, 0]; Fitness: 5;\n",
      "Genes: [0, 1, 0, 1, 0, 1, 1, 0, 1, 0]; Fitness: 5;\n",
      "Genes: [0, 1, 0, 1, 0, 1, 0, 1, 0, 1]; Fitness: 5;\n",
      "Genes: [0, 1, 0, 1, 0, 1, 0, 1, 0, 1]; Fitness: 5;\n",
      "Genes: [1, 0, 1, 0, 0, 0, 0, 1, 0, 1]; Fitness: 4;\n"
     ]
    }
   ],
   "source": [
    "ea.pop = ea.crossover()\n",
    "\n",
    "for individual in ea.pop:\n",
    "    print(\"Genes: {}; Fitness: {};\".format(individual.Genes, individual.Fitness))"
   ]
  },
  {
   "cell_type": "markdown",
   "id": "21c09759",
   "metadata": {
    "slideshow": {
     "slide_type": "fragment"
    }
   },
   "source": [
    "### 7. Let's make a loop from these operations\n",
    "\n",
    "<p align=\"center\">\n",
    "  <img src=IMG/Slide24.jpg>\n",
    "</p>"
   ]
  },
  {
   "cell_type": "code",
   "execution_count": 24,
   "id": "6cda9b47",
   "metadata": {
    "slideshow": {
     "slide_type": "fragment"
    }
   },
   "outputs": [],
   "source": [
    "parameters = {'gene_set': [0, 1],\n",
    "              'length': 10,\n",
    "              'pop_size': 200,\n",
    "              'selection_ratio': 0.5,\n",
    "              'mutation': 0}\n",
    "\n",
    "initial_population = []\n",
    "\n",
    "def get_fitness(genes):\n",
    "    return genes.count(12)"
   ]
  },
  {
   "cell_type": "code",
   "execution_count": 25,
   "id": "75ddc1b2",
   "metadata": {
    "slideshow": {
     "slide_type": "fragment"
    }
   },
   "outputs": [
    {
     "name": "stdout",
     "output_type": "stream",
     "text": [
      "It_0\t0101010110\t0.00\t0:00:00.004525\n",
      "It_1\t1011010111\t7.00\t0:00:00.010023\n",
      "It_2\t1011101111\t8.00\t0:00:00.013444\n",
      "It_3\t0111111111\t9.00\t0:00:00.017999\n",
      "It_5\t1111111111\t10.00\t0:00:00.022674\n"
     ]
    },
    {
     "data": {
      "text/plain": [
       "<__main__.Chromosome at 0x7fb7a171beb0>"
      ]
     },
     "execution_count": 25,
     "metadata": {},
     "output_type": "execute_result"
    }
   ],
   "source": [
    "ea = EA(parameters, get_fitness)\n",
    "ea.get_best_ea(initial_population)"
   ]
  },
  {
   "cell_type": "code",
   "execution_count": 26,
   "id": "cf5bc721",
   "metadata": {
    "scrolled": true,
    "slideshow": {
     "slide_type": "fragment"
    }
   },
   "outputs": [
    {
     "data": {
      "image/png": "[encoded data removed]",
      "text/plain": [
       "<Figure size 1080x360 with 2 Axes>"
      ]
     },
     "metadata": {
      "needs_background": "light"
     },
     "output_type": "display_data"
    }
   ],
   "source": [
    "# PLOTTING THE RESULTS\n",
    "plt_uno = plotter.Plotter()\n",
    "plt_uno.fitness_vs_time(10) # specify the length of the string"
   ]
  },
  {
   "cell_type": "code",
   "execution_count": null,
   "id": "d8887ccb",
   "metadata": {
    "slideshow": {
     "slide_type": "fragment"
    }
   },
   "outputs": [],
   "source": [
    "ALGORITHM_LENGTH_POP_RATIO_MUTATION"
   ]
  },
  {
   "cell_type": "code",
   "execution_count": null,
   "id": "be2f79bf",
   "metadata": {},
   "outputs": [],
   "source": []
  },
  {
   "cell_type": "markdown",
   "id": "770e7f8b",
   "metadata": {
    "slideshow": {
     "slide_type": "slide"
    }
   },
   "source": [
    "# Thank You!"
   ]
  },
  {
   "cell_type": "markdown",
   "id": "88d415dc",
   "metadata": {
    "slideshow": {
     "slide_type": "slide"
    }
   },
   "source": [
    "# Q&A"
   ]
  }
 ],
 "metadata": {
  "celltoolbar": "Slideshow",
  "kernelspec": {
   "display_name": "Python 3 (ipykernel)",
   "language": "python",
   "name": "python3"
  },
  "language_info": {
   "codemirror_mode": {
    "name": "ipython",
    "version": 3
   },
   "file_extension": ".py",
   "mimetype": "text/x-python",
   "name": "python",
   "nbconvert_exporter": "python",
   "pygments_lexer": "ipython3",
   "version": "3.9.7"
  }
 },
 "nbformat": 4,
 "nbformat_minor": 5
}
