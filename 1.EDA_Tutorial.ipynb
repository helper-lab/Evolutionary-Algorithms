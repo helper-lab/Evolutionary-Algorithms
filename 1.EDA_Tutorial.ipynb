{
 "cells": [
  {
   "cell_type": "code",
   "execution_count": 1,
   "id": "251b2abb",
   "metadata": {
    "slideshow": {
     "slide_type": "skip"
    }
   },
   "outputs": [],
   "source": [
    "import datetime\n",
    "import time\n",
    "import csv\n",
    "import os\n",
    "import random\n",
    "import numpy as np\n",
    "from matplotlib import pyplot as plt\n",
    "import pandas as pd\n",
    "import sys\n",
    "import re\n",
    "from IPython.display import Video\n",
    "sys.path.insert(0, os.getcwd())\n",
    "\n",
    "import plotter"
   ]
  },
  {
   "cell_type": "markdown",
   "id": "7e3fd261",
   "metadata": {
    "slideshow": {
     "slide_type": "slide"
    }
   },
   "source": [
    "<p align=\"right\">\n",
    "  <img src=IMG\\1_Logo.jpg>\n",
    "</p>\n",
    "\n",
    "\n",
    "## Introduction to Estimation of Distribution Algorithms\n",
    "\n",
    "\n",
    "#### Alexander Menshchikov"
   ]
  },
  {
   "cell_type": "markdown",
   "id": "ca1c2d54",
   "metadata": {
    "slideshow": {
     "slide_type": "slide"
    }
   },
   "source": [
    "## Agenda - EDA every Tuesday!\n",
    "\n",
    "| #      | Title | Date |\n",
    "| ----------- | ----------- | ----------- |\n",
    "| **1**   | **Introduction to Estimation of Distribution Algorithms (EDA)** | **November, 23**|\n",
    "| 2 | Probabilistic Graphical Models (PGM) as essential part of EDA. PGM: Representation | November, 30 |\n",
    "| 3 | PGM: Inference | December, 7 |\n",
    "| 4 | PGM: Learning | December, 14 |\n",
    "| 5 | EDA for multivariate dependencies | December, 21 |"
   ]
  },
  {
   "cell_type": "markdown",
   "id": "63cb7179",
   "metadata": {
    "slideshow": {
     "slide_type": "slide"
    }
   },
   "source": [
    "## Seminar #1: Introduction to EDA\n",
    "\n",
    "1. Population-based Search Strategies\n",
    "2. Evolutionary Algorithms Refresher\n",
    "3. Estimation of Distribution Algorithms\n",
    "4. EA vs. EDA"
   ]
  },
  {
   "cell_type": "markdown",
   "id": "b4d60798",
   "metadata": {
    "slideshow": {
     "slide_type": "slide"
    }
   },
   "source": [
    "## I. Population-based Search Strategies"
   ]
  },
  {
   "cell_type": "markdown",
   "id": "8a6015fe",
   "metadata": {
    "slideshow": {
     "slide_type": "fragment"
    }
   },
   "source": [
    "- **Heuristic**. Examination of part of all the solutions, following known algorithm _(unlike Complete algorithms)._"
   ]
  },
  {
   "cell_type": "markdown",
   "id": "1def3cea",
   "metadata": {
    "slideshow": {
     "slide_type": "fragment"
    }
   },
   "source": [
    "- **Non-Deterministic**\n",
    "    - Can escape local maxima due to randomness;\n",
    "    - Due to stochasticity – different executions lead to different solutions;"
   ]
  },
  {
   "cell_type": "markdown",
   "id": "971fd9f1",
   "metadata": {
    "slideshow": {
     "slide_type": "fragment"
    }
   },
   "source": [
    "<p align=\"center\">\n",
    "  <img src=IMG\\Slide7.jpg>\n",
    "</p>"
   ]
  },
  {
   "cell_type": "markdown",
   "id": "9d1a855f",
   "metadata": {
    "slideshow": {
     "slide_type": "slide"
    }
   },
   "source": [
    "## II. Evolutionary Algorithms refresher"
   ]
  },
  {
   "cell_type": "markdown",
   "id": "00315a5d",
   "metadata": {
    "slideshow": {
     "slide_type": "fragment"
    }
   },
   "source": [
    "* EAs exploit the ideas behind the Darwinian Theory of Evolution:\n",
    "    * Genes are at the heart of all EAs – **genotype defines phenotype** (genotype = chromosomes = individual).\n",
    "    * Individuals could be bit strings, real numbers, data structure, etc."
   ]
  },
  {
   "cell_type": "markdown",
   "id": "1c63d283",
   "metadata": {
    "slideshow": {
     "slide_type": "fragment"
    }
   },
   "source": [
    "<p align=\"center\">\n",
    "  <img src=IMG/Slide8_3.jpg>\n",
    "</p>"
   ]
  },
  {
   "cell_type": "markdown",
   "id": "0faabb76",
   "metadata": {
    "slideshow": {
     "slide_type": "fragment"
    }
   },
   "source": [
    "<p align=\"center\">\n",
    "  <img src=IMG/Slide8_2.jpg>\n",
    "</p>"
   ]
  },
  {
   "cell_type": "markdown",
   "id": "79b7f14f",
   "metadata": {
    "slideshow": {
     "slide_type": "subslide"
    }
   },
   "source": [
    "## Example: OneMax Problem\n",
    "\n",
    "#### OneMax problem for 10-bit binary sequences:\n",
    "* Maximize number of “1” in individuals of form: 1010101001;\n",
    "* Fitness function: $$ℎ(𝑥)= \\sum_{𝑖=1}^{10} 𝑥_𝑖 ; $$\n",
    "* Initial probability model (uniform distribution): $$𝑝_0 (𝑥_𝑖=1)=0.5; ∀𝑖∈[1,10]; $$"
   ]
  },
  {
   "cell_type": "markdown",
   "id": "853ebdbb",
   "metadata": {
    "slideshow": {
     "slide_type": "fragment"
    }
   },
   "source": [
    "#### In other words\n",
    "\n",
    "<p align=\"center\">\n",
    "  <img src=IMG/Slide13.jpg>\n",
    "</p>"
   ]
  },
  {
   "cell_type": "markdown",
   "id": "6e5e5b15",
   "metadata": {
    "slideshow": {
     "slide_type": "subslide"
    }
   },
   "source": [
    "* All the individuals compose the population\n",
    "\n",
    "<p align=\"center\">\n",
    "  <img src=IMG/Slide14.jpg>\n",
    "</p>"
   ]
  },
  {
   "cell_type": "markdown",
   "id": "e43ce1e6",
   "metadata": {
    "slideshow": {
     "slide_type": "subslide"
    }
   },
   "source": [
    "* We evaluate _goodness_ of each individual using _fitness function_:\n",
    "$$ℎ(𝑥)= \\sum_{𝑖=1}^{10} 𝑥_𝑖 ; $$\n",
    "\n",
    "<p align=\"center\">\n",
    "  <img src=IMG/Slide15.jpg>\n",
    "</p>"
   ]
  },
  {
   "cell_type": "markdown",
   "id": "eed14d1d",
   "metadata": {
    "slideshow": {
     "slide_type": "subslide"
    }
   },
   "source": [
    "Several individuals could be selected as parents to generate the offspring:\n",
    "* The best individuals – _elitist approach;_\n",
    "* Random individuals – _lottery ticket approach;_\n",
    "\n",
    "<p align=\"center\">\n",
    "  <img src=IMG/Slide16.jpg>\n",
    "</p>"
   ]
  },
  {
   "cell_type": "markdown",
   "id": "34e7b6d0",
   "metadata": {
    "slideshow": {
     "slide_type": "subslide"
    }
   },
   "source": [
    "* Selected parents can create the offspring in cross-over operation.\n",
    "* Offspring inherits chromosomes from both parents.\n",
    "* The offspring can mutate (the chromosomes can spontaneously change).\n",
    "* Finally, the offspring, which better fits the environment, survives.\n",
    "\n",
    "<p align=\"center\">\n",
    "  <img src=IMG/Slide20.jpg>\n",
    "</p>"
   ]
  },
  {
   "cell_type": "markdown",
   "id": "25883470",
   "metadata": {
    "slideshow": {
     "slide_type": "fragment"
    }
   },
   "source": [
    "<p align=\"center\">\n",
    "  <img src=IMG/Slide21.jpg>\n",
    "</p>"
   ]
  },
  {
   "cell_type": "markdown",
   "id": "624c8ced",
   "metadata": {
    "slideshow": {
     "slide_type": "fragment"
    }
   },
   "source": [
    "<p align=\"center\">\n",
    "  <img src=IMG/Slide22.jpg>\n",
    "</p>"
   ]
  },
  {
   "cell_type": "markdown",
   "id": "5d7a3137",
   "metadata": {
    "slideshow": {
     "slide_type": "subslide"
    }
   },
   "source": [
    "## Evolutionary Algorithm Refreseher\n",
    "\n",
    "<p align=\"center\">\n",
    "  <img src=IMG/Slide23.jpg>\n",
    "</p>"
   ]
  },
  {
   "cell_type": "markdown",
   "id": "3bb7a0bf",
   "metadata": {
    "slideshow": {
     "slide_type": "slide"
    }
   },
   "source": [
    "## Evolutionary Algorithms - Coding Time!\n",
    "\n",
    "\n",
    "<img src=\"https://media.giphy.com/media/13UZisxBxkjPwI/giphy.gif\" width=\"1024\" align=\"center\">"
   ]
  },
  {
   "cell_type": "markdown",
   "id": "79183926",
   "metadata": {
    "slideshow": {
     "slide_type": "subslide"
    }
   },
   "source": [
    "### 1. Define the Individual (Chromosome)"
   ]
  },
  {
   "cell_type": "code",
   "execution_count": 2,
   "id": "d5cc8666",
   "metadata": {
    "slideshow": {
     "slide_type": "fragment"
    }
   },
   "outputs": [],
   "source": [
    "class Chromosome:\n",
    " \n",
    "    def __init__(self, genes, fitness): \n",
    "        self.Genes = genes\n",
    "        self.Fitness = fitness"
   ]
  },
  {
   "cell_type": "markdown",
   "id": "0fa642f8",
   "metadata": {
    "slideshow": {
     "slide_type": "fragment"
    }
   },
   "source": [
    "### 2. Define all the EA methods"
   ]
  },
  {
   "cell_type": "code",
   "execution_count": 3,
   "id": "20a2c638",
   "metadata": {
    "slideshow": {
     "slide_type": "fragment"
    }
   },
   "outputs": [],
   "source": [
    "class EA:\n",
    "\n",
    "    def __init__(self, parameters, get_fitness):\n",
    "        self.alg_type = 'EA'\n",
    "        self.gene_set = parameters['gene_set']\n",
    "        self.length = parameters['length']\n",
    "        self.pop_size = parameters['pop_size']\n",
    "        self.ratio = parameters['selection_ratio']\n",
    "        self.mutation = parameters['mutation']\n",
    "        self.get_fitness = get_fitness\n",
    "        self.pop = []\n",
    "        self.num_selected = int(self.pop_size * self.ratio)\n",
    "        self.start_time = None\n",
    "        self.iteration = 0\n",
    "        self.name = self.give_name()\n",
    "\n",
    "    def give_name(self):\n",
    "        name = '_'.join([self.alg_type, \\\n",
    "                      str(self.length), \\\n",
    "                      str(self.pop_size), \\\n",
    "                      str(self.ratio), \\\n",
    "                      str(self.mutation), \\\n",
    "                      str(int(time.time()))]) +\\\n",
    "                    '.csv'\n",
    "        return name\n",
    "        \n",
    "    def generate_parent(self):\n",
    "        genes = []\n",
    "        while len(genes) < self.length:\n",
    "            sample_size = min(self.length - len(genes), len(self.gene_set))\n",
    "            genes.extend(random.sample(self.gene_set, sample_size))\n",
    "        fitness = get_fitness(genes)\n",
    "        return Chromosome(genes, fitness)\n",
    "\n",
    "    def population(self):\n",
    "        for i in range(self.pop_size):\n",
    "            self.pop.append(self.generate_parent())\n",
    "\n",
    "    def selection(self):\n",
    "        self.pop.sort(key=lambda x: x.Fitness, reverse=True)\n",
    "        self.pop = self.pop[:self.num_selected]\n",
    "\n",
    "    def mutate(self, parent):\n",
    "        child_genes = parent.Genes[:]\n",
    "        index = random.randrange(0, len(parent.Genes))\n",
    "        new_gene, alternate = random.sample(self.gene_set, 2)\n",
    "        child_genes[index] = alternate \\\n",
    "            if new_gene == child_genes[index] \\\n",
    "            else new_gene\n",
    "        fitness = self.get_fitness(child_genes)\n",
    "        return Chromosome(child_genes, fitness)\n",
    "\n",
    "    def crossover(self):\n",
    "        u_distr = np.random.rand(self.length)\n",
    "        res = []\n",
    "        while len(res) < self.pop_size:\n",
    "            index_1 = random.randrange(0, self.num_selected)\n",
    "            index_2 = random.randrange(0, self.num_selected)\n",
    "            p1 = np.array(self.pop[index_1].Genes)\n",
    "            p2 = np.array(self.pop[index_2].Genes)\n",
    "            ch_1 = []\n",
    "            for j in range(len(u_distr)):\n",
    "                if u_distr[j] >= 0.5:\n",
    "                    ch_1.append(p1[j])\n",
    "                else:\n",
    "                    ch_1.append(p2[j])\n",
    "            if self.mutation >= random.random():\n",
    "                child = self.mutate(Chromosome(ch_1, ch_1.count(1)))\n",
    "            else:\n",
    "                child = Chromosome(ch_1, ch_1.count(1))\n",
    "            res.append(child)\n",
    "\n",
    "        return res\n",
    "\n",
    "    def display(self, candidate):\n",
    "        timeDiff = datetime.datetime.now() - self.start_time\n",
    "        if len(candidate.Genes) > 30:\n",
    "            print(\"{0}\\t{1}...{2}\\t{3:3.2f}\\t{4}\".format(\n",
    "                'It_' + str(self.iteration),\n",
    "                ''.join(map(str, candidate.Genes[:15])),\n",
    "                ''.join(map(str, candidate.Genes[-15:])),\n",
    "                candidate.Fitness,\n",
    "                str(timeDiff)))\n",
    "        else:\n",
    "            print(\"{0}\\t{1}\\t{2:3.2f}\\t{3}\".format(\n",
    "                'It_' + str(self.iteration),\n",
    "                ''.join(map(str, candidate.Genes)),\n",
    "                candidate.Fitness,\n",
    "                str(timeDiff)))\n",
    "\n",
    "        with open(self.name, mode='a') as file:\n",
    "            header = ['iteration', 'best_ind', 'fitness', 'time']\n",
    "            writer = csv.writer(file, delimiter=',')\n",
    "\n",
    "            if os.path.getsize(self.name) == 0:\n",
    "                writer.writerow(header)\n",
    "                writer.writerow([self.iteration, candidate.Genes, candidate.Fitness, timeDiff])\n",
    "            else:\n",
    "                writer.writerow([self.iteration, candidate.Genes, candidate.Fitness, timeDiff])\n",
    "\n",
    "    def get_best_ea(self, initial_pop):\n",
    "\n",
    "        random.seed()\n",
    "        self.start_time = datetime.datetime.now()\n",
    "        \n",
    "        if len(initial_pop) != 0:\n",
    "            self.pop = initial_pop\n",
    "        else:\n",
    "            self.population()\n",
    "\n",
    "        self.selection()\n",
    "        best_parent = self.pop[0]\n",
    "        self.display(best_parent)\n",
    "        \n",
    "        # Stopping criterion\n",
    "        if best_parent.Fitness >= self.length:\n",
    "            return best_parent\n",
    "        \n",
    "        # Searching the best individuals\n",
    "        while True:\n",
    "            self.iteration += 1\n",
    "            self.pop = self.crossover()\n",
    "            self.selection()\n",
    "            best_child = self.pop[0]\n",
    "            \n",
    "            if best_parent.Fitness >= best_child.Fitness:\n",
    "                continue\n",
    "\n",
    "            self.display(best_child)\n",
    "            \n",
    "            # Stopping criterion\n",
    "            if best_child.Fitness >= self.length:\n",
    "                return best_child\n",
    "\n",
    "            best_parent = best_child\n",
    "\n",
    "    def check_params(self):\n",
    "        temp = vars(self)\n",
    "        # print('Enlist all the input parameters')\n",
    "        for item in temp:\n",
    "            print(item, ':', temp[item])"
   ]
  },
  {
   "cell_type": "markdown",
   "id": "28ee07f1",
   "metadata": {
    "slideshow": {
     "slide_type": "fragment"
    }
   },
   "source": [
    "### 3. Evolutionary Algorithm Parameters"
   ]
  },
  {
   "cell_type": "code",
   "execution_count": 4,
   "id": "7aa4fb22",
   "metadata": {
    "slideshow": {
     "slide_type": "fragment"
    }
   },
   "outputs": [],
   "source": [
    "parameters = {'gene_set': [0, 1],\n",
    "              'length': 10,\n",
    "              'pop_size': 10,\n",
    "              'selection_ratio': 0.5,\n",
    "              'mutation': 0.01}\n",
    "\n",
    "initial_population = []\n",
    "\n",
    "def get_fitness(genes):\n",
    "    return genes.count(1)"
   ]
  },
  {
   "cell_type": "markdown",
   "id": "bb717669",
   "metadata": {
    "slideshow": {
     "slide_type": "fragment"
    }
   },
   "source": [
    "### 4. Initialize the population"
   ]
  },
  {
   "cell_type": "code",
   "execution_count": 5,
   "id": "2097dedb",
   "metadata": {
    "slideshow": {
     "slide_type": "fragment"
    }
   },
   "outputs": [
    {
     "name": "stdout",
     "output_type": "stream",
     "text": [
      "Genes: [0, 1, 1, 0, 1, 0, 0, 1, 0, 1]; Fitness: 5;\n",
      "Genes: [1, 0, 0, 1, 1, 0, 0, 1, 1, 0]; Fitness: 5;\n",
      "Genes: [0, 1, 1, 0, 1, 0, 0, 1, 0, 1]; Fitness: 5;\n",
      "Genes: [1, 0, 1, 0, 0, 1, 1, 0, 1, 0]; Fitness: 5;\n",
      "Genes: [0, 1, 1, 0, 0, 1, 1, 0, 0, 1]; Fitness: 5;\n",
      "Genes: [1, 0, 1, 0, 1, 0, 0, 1, 0, 1]; Fitness: 5;\n",
      "Genes: [0, 1, 1, 0, 1, 0, 1, 0, 0, 1]; Fitness: 5;\n",
      "Genes: [1, 0, 1, 0, 0, 1, 1, 0, 0, 1]; Fitness: 5;\n",
      "Genes: [1, 0, 0, 1, 1, 0, 0, 1, 1, 0]; Fitness: 5;\n",
      "Genes: [0, 1, 0, 1, 0, 1, 0, 1, 1, 0]; Fitness: 5;\n"
     ]
    }
   ],
   "source": [
    "ea = EA(parameters, get_fitness)\n",
    "ea.population()\n",
    "\n",
    "for individual in ea.pop:\n",
    "    print(\"Genes: {}; Fitness: {};\".format(individual.Genes, individual.Fitness))"
   ]
  },
  {
   "cell_type": "markdown",
   "id": "c3d6a00c",
   "metadata": {
    "slideshow": {
     "slide_type": "fragment"
    }
   },
   "source": [
    "### 5. Select the best individuals"
   ]
  },
  {
   "cell_type": "code",
   "execution_count": 6,
   "id": "79ccb62a",
   "metadata": {
    "scrolled": true,
    "slideshow": {
     "slide_type": "fragment"
    }
   },
   "outputs": [
    {
     "name": "stdout",
     "output_type": "stream",
     "text": [
      "Genes: [0, 1, 1, 0, 1, 0, 0, 1, 0, 1]; Fitness: 5;\n",
      "Genes: [1, 0, 0, 1, 1, 0, 0, 1, 1, 0]; Fitness: 5;\n",
      "Genes: [0, 1, 1, 0, 1, 0, 0, 1, 0, 1]; Fitness: 5;\n",
      "Genes: [1, 0, 1, 0, 0, 1, 1, 0, 1, 0]; Fitness: 5;\n",
      "Genes: [0, 1, 1, 0, 0, 1, 1, 0, 0, 1]; Fitness: 5;\n"
     ]
    }
   ],
   "source": [
    "ea.selection()\n",
    "\n",
    "for individual in ea.pop:\n",
    "    print(\"Genes: {}; Fitness: {};\".format(individual.Genes, individual.Fitness))"
   ]
  },
  {
   "cell_type": "markdown",
   "id": "4cc279e6",
   "metadata": {
    "slideshow": {
     "slide_type": "fragment"
    }
   },
   "source": [
    "### 6. Perform crossover and mutation operation"
   ]
  },
  {
   "cell_type": "code",
   "execution_count": 7,
   "id": "148a59f7",
   "metadata": {
    "slideshow": {
     "slide_type": "fragment"
    }
   },
   "outputs": [
    {
     "name": "stdout",
     "output_type": "stream",
     "text": [
      "Genes: [0, 1, 1, 0, 1, 1, 0, 1, 0, 1]; Fitness: 6;\n",
      "Genes: [1, 1, 1, 0, 0, 0, 1, 0, 0, 1]; Fitness: 5;\n",
      "Genes: [0, 1, 1, 0, 1, 0, 0, 1, 0, 1]; Fitness: 5;\n",
      "Genes: [0, 1, 1, 0, 1, 0, 0, 1, 0, 1]; Fitness: 5;\n",
      "Genes: [0, 0, 1, 1, 0, 0, 1, 0, 1, 0]; Fitness: 4;\n",
      "Genes: [0, 1, 1, 0, 1, 0, 0, 1, 0, 1]; Fitness: 5;\n",
      "Genes: [0, 0, 1, 0, 0, 1, 1, 0, 1, 0]; Fitness: 4;\n",
      "Genes: [0, 1, 1, 0, 0, 1, 1, 0, 0, 1]; Fitness: 5;\n",
      "Genes: [1, 0, 0, 0, 1, 1, 0, 1, 1, 0]; Fitness: 5;\n",
      "Genes: [1, 1, 1, 0, 0, 0, 1, 0, 0, 1]; Fitness: 5;\n"
     ]
    }
   ],
   "source": [
    "ea.pop = ea.crossover()\n",
    "\n",
    "for individual in ea.pop:\n",
    "    print(\"Genes: {}; Fitness: {};\".format(individual.Genes, individual.Fitness))"
   ]
  },
  {
   "cell_type": "markdown",
   "id": "21c09759",
   "metadata": {
    "slideshow": {
     "slide_type": "fragment"
    }
   },
   "source": [
    "### 7. Let's make a loop from these operations\n",
    "\n",
    "<p align=\"center\">\n",
    "  <img src=IMG/Slide24.jpg>\n",
    "</p>"
   ]
  },
  {
   "cell_type": "code",
   "execution_count": 8,
   "id": "6cda9b47",
   "metadata": {
    "slideshow": {
     "slide_type": "fragment"
    }
   },
   "outputs": [],
   "source": [
    "parameters = {'gene_set': [0, 1],\n",
    "              'length': 10,\n",
    "              'pop_size': 200,\n",
    "              'selection_ratio': 0.5,\n",
    "              'mutation': 0}\n",
    "\n",
    "initial_population = []\n",
    "\n",
    "def get_fitness(genes):\n",
    "    return genes.count(1)"
   ]
  },
  {
   "cell_type": "code",
   "execution_count": 9,
   "id": "75ddc1b2",
   "metadata": {
    "slideshow": {
     "slide_type": "fragment"
    }
   },
   "outputs": [
    {
     "name": "stdout",
     "output_type": "stream",
     "text": [
      "It_0\t1010101001\t5.00\t0:00:00.000996\n",
      "It_1\t1110111110\t8.00\t0:00:00.016579\n",
      "It_3\t1101111111\t9.00\t0:00:00.023328\n",
      "It_4\t1111111111\t10.00\t0:00:00.023328\n"
     ]
    },
    {
     "data": {
      "text/plain": [
       "<__main__.Chromosome at 0x1613ef01070>"
      ]
     },
     "execution_count": 9,
     "metadata": {},
     "output_type": "execute_result"
    }
   ],
   "source": [
    "ea = EA(parameters, get_fitness)\n",
    "ea.get_best_ea(initial_population)"
   ]
  },
  {
   "cell_type": "code",
   "execution_count": 10,
   "id": "cf5bc721",
   "metadata": {
    "scrolled": true,
    "slideshow": {
     "slide_type": "fragment"
    }
   },
   "outputs": [
    {
     "data": {
      "image/png": "[encoded data removed]",
      "text/plain": [
       "<Figure size 1080x360 with 2 Axes>"
      ]
     },
     "metadata": {
      "needs_background": "light"
     },
     "output_type": "display_data"
    }
   ],
   "source": [
    "# PLOTTING THE RESULTS\n",
    "plt_uno = plotter.Plotter()\n",
    "plt_uno.fitness_vs_time(10) # specify the length of the string"
   ]
  },
  {
   "cell_type": "markdown",
   "id": "2c17e798",
   "metadata": {
    "slideshow": {
     "slide_type": "slide"
    }
   },
   "source": [
    "## III. Estimation of Distribution Algorithms (EDA)"
   ]
  },
  {
   "cell_type": "markdown",
   "id": "67906546",
   "metadata": {
    "slideshow": {
     "slide_type": "fragment"
    }
   },
   "source": [
    "**The ideas behind EDA:**\n",
    "1. Reduce the number of metaparameters and operators:\n",
    "    * EA: Mutation and crossover operations (arbitrary operators)\n",
    "    * EDA: Select individuals from previous generation -> Estimate probability distribution -> Sample new individuals\n",
    "2. Interrelation between variables:\n",
    "    * EA: implicit (e.g. Building Block Hypothesis)\n",
    "    * EDA: explicit, expressed via joint probability distribution, associated with distribution, estimated from individuals"
   ]
  },
  {
   "cell_type": "markdown",
   "id": "8a602b34",
   "metadata": {
    "slideshow": {
     "slide_type": "fragment"
    }
   },
   "source": [
    "<p align=\"center\">\n",
    "  <img src=IMG/Slide31.jpg>\n",
    "</p>"
   ]
  },
  {
   "cell_type": "markdown",
   "id": "2e8880c4",
   "metadata": {
    "slideshow": {
     "slide_type": "fragment"
    }
   },
   "source": [
    "## EA vs EDA: Hollywood Perspective\n",
    "\n",
    " Lion King's circle of life | Gattaca's genetically modified humans\n",
    "- | - \n",
    "<img src=\"https://media.giphy.com/media/RD6xYydS43msU/giphy.gif\" width=\"512\" align=\"center\">| <img src=\"IMG\\Gattaca.jpg\" width=\"512\" align=\"center\">"
   ]
  },
  {
   "cell_type": "markdown",
   "id": "a9a2b750",
   "metadata": {
    "slideshow": {
     "slide_type": "subslide"
    }
   },
   "source": [
    "<p align=\"center\">\n",
    "  <img src=IMG/Slide33.jpg>\n",
    "</p>"
   ]
  },
  {
   "cell_type": "markdown",
   "id": "67b0c45e",
   "metadata": {
    "slideshow": {
     "slide_type": "subslide"
    }
   },
   "source": [
    "<p align=\"center\">\n",
    "  <img src=IMG/Slide36.jpg>\n",
    "</p>"
   ]
  },
  {
   "cell_type": "markdown",
   "id": "752bb13a",
   "metadata": {
    "slideshow": {
     "slide_type": "subslide"
    }
   },
   "source": [
    "<p align=\"center\">\n",
    "  <img src=IMG/Slide37.jpg>\n",
    "</p>"
   ]
  },
  {
   "cell_type": "markdown",
   "id": "e974522a",
   "metadata": {
    "slideshow": {
     "slide_type": "subslide"
    }
   },
   "source": [
    "<p align=\"center\">\n",
    "  <img src=IMG/Slide57.jpg>\n",
    "</p>"
   ]
  },
  {
   "cell_type": "markdown",
   "id": "1130e27c",
   "metadata": {
    "slideshow": {
     "slide_type": "subslide"
    }
   },
   "source": [
    "<p align=\"center\">\n",
    "  <img src=IMG/Slide59.jpg>\n",
    "</p>"
   ]
  },
  {
   "cell_type": "markdown",
   "id": "783a0e08",
   "metadata": {
    "slideshow": {
     "slide_type": "slide"
    }
   },
   "source": [
    "## Let's code UMDA!\n",
    "\n",
    "<img src=\"https://media.giphy.com/media/5ntdy5Ban1dIY/giphy.gif\" width=\"768\" align=\"center\">"
   ]
  },
  {
   "cell_type": "markdown",
   "id": "33a0d5ec",
   "metadata": {
    "slideshow": {
     "slide_type": "subslide"
    }
   },
   "source": [
    "### EDA (UMDA) Methods\n",
    "\n",
    "- UMDA uses the same methods as EA: `generate_parent`, `population`, `selection`.\n",
    "- It doesn't use the methods: `mutate` and `crossover`. \n",
    "- Instead, it uses `vector_from_pop` to create the probability distribution and `pop_from_vector` to sample population from this distribution."
   ]
  },
  {
   "cell_type": "markdown",
   "id": "1656500c",
   "metadata": {
    "slideshow": {
     "slide_type": "fragment"
    }
   },
   "source": [
    "### 1. Define all the EDA methods"
   ]
  },
  {
   "cell_type": "code",
   "execution_count": 11,
   "id": "1e6d8be8",
   "metadata": {
    "slideshow": {
     "slide_type": "fragment"
    }
   },
   "outputs": [],
   "source": [
    "class UMDA(EA):\n",
    "\n",
    "    def __init__(self, parameters, get_fitness, **kwargs):\n",
    "        super().__init__(parameters, get_fitness, **kwargs)\n",
    "        self.alg_type = 'UMDA'\n",
    "        self.mutation = None\n",
    "        self.name = self.give_name()\n",
    "        self.distr = None\n",
    "        self.vector = None\n",
    "\n",
    "    def vector_from_pop(self):\n",
    "        vector = []\n",
    "        distr = []\n",
    "        for i in range(self.length):\n",
    "            vector.append(sum(ind.Genes[i] for ind in self.pop) / len(self.pop))\n",
    "        for j in range(len(vector)):\n",
    "            distr.append(np.array([vector[j], 1 - vector[j]]))\n",
    "        self.distr = distr\n",
    "        self.vector = vector\n",
    "\n",
    "    def pop_from_vector(self):\n",
    "        pop = []\n",
    "        a_list = self.gene_set[::-1]\n",
    "        for k in range(self.pop_size):\n",
    "            ind = []\n",
    "            for i in self.distr:\n",
    "                ind.append(random.choices(a_list, i)[0])\n",
    "            pop.append(Chromosome(ind, ind.count(1)))\n",
    "        self.pop = pop\n",
    "        \n",
    "    def display(self, candidate):\n",
    "        timeDiff = datetime.datetime.now() - self.start_time\n",
    "        if len(candidate.Genes) > 30:\n",
    "            print(\"{0}\\t{1}...{2}\\t{3:3.2f}\\t{4}\".format(\n",
    "                'It_' + str(self.iteration),\n",
    "                ''.join(map(str, candidate.Genes[:15])),\n",
    "                ''.join(map(str, candidate.Genes[-15:])),\n",
    "                candidate.Fitness,\n",
    "                str(timeDiff)))\n",
    "        else:\n",
    "            print(\"{0}\\t{1}\\t{2:3.2f}\\t{3}\".format(\n",
    "                'It_' + str(self.iteration),\n",
    "                ''.join(map(str, candidate.Genes)),\n",
    "                candidate.Fitness,\n",
    "                str(timeDiff)))\n",
    "\n",
    "        with open(self.name, mode='a') as file:\n",
    "            header = ['iteration', 'best_ind', 'fitness', 'time', 'vector']\n",
    "            writer = csv.writer(file, delimiter=',')\n",
    "\n",
    "            if os.path.getsize(self.name) == 0:\n",
    "                writer.writerow(header)\n",
    "                writer.writerow([self.iteration, candidate.Genes, candidate.Fitness, timeDiff, self.vector])\n",
    "            else:\n",
    "                writer.writerow([self.iteration, candidate.Genes, candidate.Fitness, timeDiff, self.vector])\n",
    "    \n",
    "    def get_best_umda(self, initial_pop):\n",
    "        \n",
    "        random.seed()\n",
    "        self.start_time = datetime.datetime.now()\n",
    "        \n",
    "        if len(initial_pop) != 0:\n",
    "            self.pop = initial_pop\n",
    "        else:\n",
    "            self.population()\n",
    "\n",
    "        self.selection()\n",
    "        best_parent = self.pop[0]\n",
    "        self.display(best_parent)\n",
    "        \n",
    "        # Stopping criterion\n",
    "        if best_parent.Fitness >= self.length:\n",
    "            return best_parent\n",
    "        \n",
    "        while True:\n",
    "            \n",
    "            self.iteration += 1\n",
    "            self.vector_from_pop()\n",
    "            self.pop_from_vector()\n",
    "            self.selection()\n",
    "            best_child = self.pop[0]\n",
    "            \n",
    "            if best_parent.Fitness >= best_child.Fitness:\n",
    "                continue\n",
    "            self.display(best_child)\n",
    "            \n",
    "            # Stopping criterion\n",
    "            if best_child.Fitness >= self.length:\n",
    "                return best_child\n",
    "\n",
    "            best_parent = best_child"
   ]
  },
  {
   "cell_type": "code",
   "execution_count": 12,
   "id": "1c856566",
   "metadata": {
    "slideshow": {
     "slide_type": "fragment"
    }
   },
   "outputs": [],
   "source": [
    "parameters = {'gene_set': [0, 1],\n",
    "              'length': 10,\n",
    "              'pop_size': 10,\n",
    "              'selection_ratio': 0.5,\n",
    "              'mutation': 0}\n",
    "\n",
    "initial_population = []\n",
    "\n",
    "def get_fitness(genes):\n",
    "    return genes.count(1)"
   ]
  },
  {
   "cell_type": "markdown",
   "id": "79a6ed3d",
   "metadata": {
    "slideshow": {
     "slide_type": "fragment"
    }
   },
   "source": [
    "### 2. Create the population"
   ]
  },
  {
   "cell_type": "code",
   "execution_count": 13,
   "id": "2cc6ab3e",
   "metadata": {
    "slideshow": {
     "slide_type": "fragment"
    }
   },
   "outputs": [
    {
     "name": "stdout",
     "output_type": "stream",
     "text": [
      "Genes: [0, 1, 0, 1, 1, 0, 0, 1, 1, 0]; Fitness: 5;\n",
      "Genes: [0, 1, 0, 1, 1, 0, 1, 0, 1, 0]; Fitness: 5;\n",
      "Genes: [0, 1, 1, 0, 1, 0, 0, 1, 1, 0]; Fitness: 5;\n",
      "Genes: [1, 0, 1, 0, 1, 0, 0, 1, 0, 1]; Fitness: 5;\n",
      "Genes: [1, 0, 0, 1, 1, 0, 1, 0, 0, 1]; Fitness: 5;\n",
      "Genes: [0, 1, 0, 1, 1, 0, 1, 0, 1, 0]; Fitness: 5;\n",
      "Genes: [0, 1, 0, 1, 1, 0, 0, 1, 1, 0]; Fitness: 5;\n",
      "Genes: [1, 0, 0, 1, 0, 1, 0, 1, 0, 1]; Fitness: 5;\n",
      "Genes: [1, 0, 1, 0, 1, 0, 1, 0, 1, 0]; Fitness: 5;\n",
      "Genes: [1, 0, 1, 0, 0, 1, 0, 1, 1, 0]; Fitness: 5;\n"
     ]
    }
   ],
   "source": [
    "umda = UMDA(parameters, get_fitness)\n",
    "umda.population()\n",
    "\n",
    "for individual in umda.pop:\n",
    "    print(\"Genes: {}; Fitness: {};\".format(individual.Genes, individual.Fitness))"
   ]
  },
  {
   "cell_type": "markdown",
   "id": "d2d3e0e3",
   "metadata": {
    "slideshow": {
     "slide_type": "fragment"
    }
   },
   "source": [
    "### 3. Make selection"
   ]
  },
  {
   "cell_type": "code",
   "execution_count": 14,
   "id": "65a8a5cd",
   "metadata": {
    "slideshow": {
     "slide_type": "fragment"
    }
   },
   "outputs": [
    {
     "name": "stdout",
     "output_type": "stream",
     "text": [
      "Genes: [0, 1, 0, 1, 1, 0, 0, 1, 1, 0]; Fitness: 5;\n",
      "Genes: [0, 1, 0, 1, 1, 0, 1, 0, 1, 0]; Fitness: 5;\n",
      "Genes: [0, 1, 1, 0, 1, 0, 0, 1, 1, 0]; Fitness: 5;\n",
      "Genes: [1, 0, 1, 0, 1, 0, 0, 1, 0, 1]; Fitness: 5;\n",
      "Genes: [1, 0, 0, 1, 1, 0, 1, 0, 0, 1]; Fitness: 5;\n"
     ]
    }
   ],
   "source": [
    "umda.selection()\n",
    "\n",
    "for individual in umda.pop:\n",
    "    print(\"Genes: {}; Fitness: {};\".format(individual.Genes, individual.Fitness))"
   ]
  },
  {
   "cell_type": "markdown",
   "id": "d95ce66f",
   "metadata": {
    "slideshow": {
     "slide_type": "fragment"
    }
   },
   "source": [
    "### 4. Make a probability distribution from the population"
   ]
  },
  {
   "cell_type": "code",
   "execution_count": 15,
   "id": "b90942cf",
   "metadata": {
    "slideshow": {
     "slide_type": "fragment"
    }
   },
   "outputs": [
    {
     "name": "stdout",
     "output_type": "stream",
     "text": [
      "[0.4, 0.6, 0.4, 0.6, 1.0, 0.0, 0.4, 0.6, 0.6, 0.4]\n"
     ]
    }
   ],
   "source": [
    "umda.vector_from_pop()\n",
    "\n",
    "print(umda.vector)"
   ]
  },
  {
   "cell_type": "markdown",
   "id": "93dd1a4a",
   "metadata": {
    "slideshow": {
     "slide_type": "fragment"
    }
   },
   "source": [
    "### 5. Sample new population from the vector"
   ]
  },
  {
   "cell_type": "code",
   "execution_count": 16,
   "id": "f288a790",
   "metadata": {
    "slideshow": {
     "slide_type": "fragment"
    }
   },
   "outputs": [
    {
     "name": "stdout",
     "output_type": "stream",
     "text": [
      "Genes: [1, 1, 0, 1, 1, 0, 0, 1, 1, 1]; Fitness: 7;\n",
      "Genes: [0, 0, 1, 0, 1, 0, 1, 0, 1, 0]; Fitness: 4;\n",
      "Genes: [0, 1, 0, 1, 1, 0, 0, 0, 1, 0]; Fitness: 4;\n",
      "Genes: [0, 1, 1, 0, 1, 0, 0, 1, 0, 1]; Fitness: 5;\n",
      "Genes: [1, 1, 0, 1, 1, 0, 0, 0, 1, 0]; Fitness: 5;\n",
      "Genes: [0, 0, 1, 0, 1, 0, 0, 1, 0, 0]; Fitness: 3;\n",
      "Genes: [1, 1, 1, 0, 1, 0, 0, 1, 1, 1]; Fitness: 7;\n",
      "Genes: [1, 1, 1, 0, 1, 0, 0, 0, 1, 0]; Fitness: 5;\n",
      "Genes: [0, 1, 0, 0, 1, 0, 0, 1, 0, 1]; Fitness: 4;\n",
      "Genes: [0, 0, 0, 1, 1, 0, 0, 0, 1, 1]; Fitness: 4;\n"
     ]
    }
   ],
   "source": [
    "umda.pop_from_vector()\n",
    "\n",
    "for individual in umda.pop:\n",
    "    print(\"Genes: {}; Fitness: {};\".format(individual.Genes, individual.Fitness))"
   ]
  },
  {
   "cell_type": "markdown",
   "id": "ce2f50bd",
   "metadata": {
    "slideshow": {
     "slide_type": "fragment"
    }
   },
   "source": [
    "### 6. Repeat all the operations in a loop"
   ]
  },
  {
   "cell_type": "code",
   "execution_count": 17,
   "id": "150d9594",
   "metadata": {
    "slideshow": {
     "slide_type": "fragment"
    }
   },
   "outputs": [],
   "source": [
    "parameters = {'gene_set': [0, 1],\n",
    "              'length': 10,\n",
    "              'pop_size': 30,\n",
    "              'selection_ratio': 0.5,\n",
    "              'mutation': 0}\n",
    "\n",
    "initial_population = []\n",
    "\n",
    "def get_fitness(genes):\n",
    "    return genes.count(1)"
   ]
  },
  {
   "cell_type": "code",
   "execution_count": 18,
   "id": "71d6b68e",
   "metadata": {
    "slideshow": {
     "slide_type": "fragment"
    }
   },
   "outputs": [
    {
     "name": "stdout",
     "output_type": "stream",
     "text": [
      "It_0\t1001100110\t5.00\t0:00:00\n",
      "It_1\t1111101101\t8.00\t0:00:00.008125\n",
      "It_2\t1011111111\t9.00\t0:00:00.012246\n",
      "It_3\t1111111111\t10.00\t0:00:00.015711\n"
     ]
    },
    {
     "data": {
      "text/plain": [
       "<__main__.Chromosome at 0x1613ef52ca0>"
      ]
     },
     "execution_count": 18,
     "metadata": {},
     "output_type": "execute_result"
    }
   ],
   "source": [
    "umda = UMDA(parameters, get_fitness)\n",
    "umda.get_best_umda(initial_population)"
   ]
  },
  {
   "cell_type": "code",
   "execution_count": 19,
   "id": "f58c95fe",
   "metadata": {
    "scrolled": true,
    "slideshow": {
     "slide_type": "fragment"
    }
   },
   "outputs": [
    {
     "data": {
      "image/png": "[encoded data removed]",
      "text/plain": [
       "<Figure size 1080x360 with 2 Axes>"
      ]
     },
     "metadata": {
      "needs_background": "light"
     },
     "output_type": "display_data"
    }
   ],
   "source": [
    "plt_uno = plotter.Plotter()\n",
    "plt_uno.fitness_vs_time(10) # specify the length of the bitstring"
   ]
  },
  {
   "cell_type": "markdown",
   "id": "4a4057cb",
   "metadata": {
    "slideshow": {
     "slide_type": "slide"
    }
   },
   "source": [
    "## IV. EA vs EDA"
   ]
  },
  {
   "cell_type": "code",
   "execution_count": 20,
   "id": "cdb734d0",
   "metadata": {
    "slideshow": {
     "slide_type": "subslide"
    }
   },
   "outputs": [],
   "source": [
    "class OneMaxTests(UMDA):\n",
    "    def __init__(self, parameters, get_fitness, **kwargs):\n",
    "        super().__init__(parameters, get_fitness, **kwargs)\n",
    "        self.population()\n",
    "        self.initial_pop = self.pop\n",
    "\n",
    "    def test_ea(self):\n",
    "        a = EA(parameters, get_fitness)\n",
    "        a.get_best_ea(self.initial_pop)\n",
    "\n",
    "    def test_umda(self):\n",
    "        a = UMDA(parameters, get_fitness)\n",
    "        a.get_best_umda(self.initial_pop)\n",
    "        \n",
    "    def test(self):\n",
    "        print(\"=====Testing UMDA=====\")\n",
    "        self.test_umda()\n",
    "        print(\"=====Testing EA=====\")\n",
    "        self.test_ea()"
   ]
  },
  {
   "cell_type": "code",
   "execution_count": 21,
   "id": "bb12c3c1",
   "metadata": {
    "slideshow": {
     "slide_type": "fragment"
    }
   },
   "outputs": [],
   "source": [
    "parameters = {'gene_set': [0, 1],\n",
    "              'length': 90,\n",
    "              'pop_size': 120,\n",
    "              'selection_ratio': 0.25,\n",
    "              'mutation': 0.01}\n",
    "\n",
    "def get_fitness(genes):\n",
    "    return genes.count(1)"
   ]
  },
  {
   "cell_type": "code",
   "execution_count": 23,
   "id": "ded3f4bd",
   "metadata": {
    "slideshow": {
     "slide_type": "fragment"
    }
   },
   "outputs": [
    {
     "name": "stdout",
     "output_type": "stream",
     "text": [
      "=====Testing UMDA=====\n",
      "It_0\t101010010110101...110101010101010\t45.00\t0:00:00\n",
      "It_1\t111111010110111...000010100011101\t57.00\t0:00:00.041159\n",
      "It_2\t110111111111101...110011101001001\t62.00\t0:00:00.086257\n",
      "It_3\t010111011010011...011110111101110\t66.00\t0:00:00.142117\n",
      "It_4\t001111111110001...111110111111011\t72.00\t0:00:00.194064\n",
      "It_5\t011011111110111...111111111111011\t75.00\t0:00:00.249865\n",
      "It_6\t111111111100111...101111111111111\t79.00\t0:00:00.308523\n",
      "It_7\t111111111111011...111111111111011\t83.00\t0:00:00.360922\n",
      "It_8\t111111111111111...111110111111111\t86.00\t0:00:00.414763\n",
      "It_9\t111111111111111...111110111111111\t89.00\t0:00:00.462360\n",
      "It_11\t111111111111111...111111111111111\t90.00\t0:00:00.590852\n",
      "=====Testing EA=====\n",
      "It_0\t101010010110101...110101010101010\t45.00\t0:00:00\n",
      "It_1\t101110011111011...101100100000111\t52.00\t0:00:00.017120\n",
      "It_2\t000111111110011...101110111100101\t56.00\t0:00:00.027783\n",
      "It_3\t111111011111011...111110100100111\t58.00\t0:00:00.048878\n",
      "It_4\t011111111110011...111110000111111\t63.00\t0:00:00.062923\n",
      "It_5\t111111111110011...101110111101101\t68.00\t0:00:00.077060\n",
      "It_6\t111111111110011...101111111101101\t70.00\t0:00:00.089076\n",
      "It_7\t111111011111011...101111111101101\t73.00\t0:00:00.101087\n",
      "It_8\t111111111111011...101111111101111\t75.00\t0:00:00.111794\n",
      "It_9\t111111111111011...111100111111001\t76.00\t0:00:00.116710\n",
      "It_10\t111111111111011...111101111111111\t79.00\t0:00:00.134960\n",
      "It_11\t111111111111011...111111111111111\t80.00\t0:00:00.149310\n",
      "It_12\t111111111111011...111111111111111\t82.00\t0:00:00.160950\n",
      "It_14\t111111111111011...111111111111111\t84.00\t0:00:00.186496\n",
      "It_23\t111111111111111...111111111111111\t85.00\t0:00:00.270795\n",
      "It_52\t111111111111011...111111111111111\t86.00\t0:00:00.601484\n",
      "It_62\t111111111111111...111111111111111\t87.00\t0:00:00.701548\n",
      "It_65\t111111111111111...111111111111111\t88.00\t0:00:00.734748\n",
      "It_68\t111111111111111...111111111111111\t89.00\t0:00:00.768945\n",
      "It_164\t111111111111111...111111111111111\t90.00\t0:00:01.767741\n"
     ]
    }
   ],
   "source": [
    "cd = OneMaxTests(parameters, get_fitness)\n",
    "cd.test()"
   ]
  },
  {
   "cell_type": "code",
   "execution_count": 24,
   "id": "8fff9ef6",
   "metadata": {
    "slideshow": {
     "slide_type": "fragment"
    }
   },
   "outputs": [
    {
     "data": {
      "image/png": "[encoded data removed]",
      "text/plain": [
       "<Figure size 1080x360 with 2 Axes>"
      ]
     },
     "metadata": {
      "needs_background": "light"
     },
     "output_type": "display_data"
    }
   ],
   "source": [
    "plt_uno = plotter.Plotter()\n",
    "plt_uno.fitness_vs_time(90)"
   ]
  },
  {
   "cell_type": "markdown",
   "id": "790311aa",
   "metadata": {
    "slideshow": {
     "slide_type": "fragment"
    }
   },
   "source": [
    "ALGORITHM_LENGTH_POP_RATIO_MUTATION"
   ]
  },
  {
   "cell_type": "markdown",
   "id": "770e7f8b",
   "metadata": {
    "slideshow": {
     "slide_type": "slide"
    }
   },
   "source": [
    "# Thank You!"
   ]
  },
  {
   "cell_type": "markdown",
   "id": "88d415dc",
   "metadata": {
    "slideshow": {
     "slide_type": "slide"
    }
   },
   "source": [
    "# Q&A"
   ]
  }
 ],
 "metadata": {
  "celltoolbar": "Slideshow",
  "kernelspec": {
   "display_name": "Python 3 (ipykernel)",
   "language": "python",
   "name": "python3"
  },
  "language_info": {
   "codemirror_mode": {
    "name": "ipython",
    "version": 3
   },
   "file_extension": ".py",
   "mimetype": "text/x-python",
   "name": "python",
   "nbconvert_exporter": "python",
   "pygments_lexer": "ipython3",
   "version": "3.9.7"
  }
 },
 "nbformat": 4,
 "nbformat_minor": 5
}
